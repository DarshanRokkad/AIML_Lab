{
 "cells": [
  {
   "cell_type": "markdown",
   "id": "3ab9f75f",
   "metadata": {},
   "source": [
    "# <font color = 'orange'> Program Number 7 - SVM Classifier"
   ]
  },
  {
   "cell_type": "markdown",
   "id": "bd5f212e",
   "metadata": {},
   "source": [
    "---"
   ]
  },
  {
   "cell_type": "markdown",
   "id": "eb75e77e",
   "metadata": {},
   "source": [
    "Name : Darshan R.M.  \n",
    "USN : 1NT21CS058  \n",
    "Semester : 5th  \n",
    "Section : A"
   ]
  },
  {
   "cell_type": "markdown",
   "id": "24c48bb7",
   "metadata": {},
   "source": [
    "---"
   ]
  },
  {
   "cell_type": "markdown",
   "id": "501183a6",
   "metadata": {},
   "source": [
    "## <font color='blue'>Problem Statement :\n",
    "### Demonstrate the working of SVM classifier for a suitable data set"
   ]
  },
  {
   "cell_type": "markdown",
   "id": "fdf419f2",
   "metadata": {},
   "source": [
    "---"
   ]
  },
  {
   "cell_type": "code",
   "execution_count": null,
   "id": "d47bbd00",
   "metadata": {},
   "outputs": [],
   "source": []
  },
  {
   "cell_type": "markdown",
   "id": "b2551e25",
   "metadata": {},
   "source": [
    "---"
   ]
  }
 ],
 "metadata": {
  "kernelspec": {
   "display_name": "Python 3 (ipykernel)",
   "language": "python",
   "name": "python3"
  },
  "language_info": {
   "codemirror_mode": {
    "name": "ipython",
    "version": 3
   },
   "file_extension": ".py",
   "mimetype": "text/x-python",
   "name": "python",
   "nbconvert_exporter": "python",
   "pygments_lexer": "ipython3",
   "version": "3.9.13"
  }
 },
 "nbformat": 4,
 "nbformat_minor": 5
}
