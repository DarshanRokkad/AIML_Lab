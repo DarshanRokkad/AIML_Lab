{
 "cells": [
  {
   "cell_type": "markdown",
   "id": "7e5d5b97",
   "metadata": {},
   "source": [
    "# <font color = 'orange'> Program Number 1 - A* Algorithm"
   ]
  },
  {
   "cell_type": "markdown",
   "id": "7b7a6e11",
   "metadata": {},
   "source": [
    "---"
   ]
  },
  {
   "cell_type": "markdown",
   "id": "baf7f826",
   "metadata": {},
   "source": [
    "Name : Darshan R.M.  \n",
    "USN : 1NT21CS058  \n",
    "Semester : 5th  \n",
    "Section : A"
   ]
  },
  {
   "cell_type": "markdown",
   "id": "58dd79b7",
   "metadata": {},
   "source": [
    "---"
   ]
  },
  {
   "cell_type": "markdown",
   "id": "7d2a3b14",
   "metadata": {},
   "source": [
    "## <font color='blue'> Problem Statement:\n",
    "### We have the Map of Romania. In this map, the distance between various places in Romania is given. If we have to reach from one place to another place there exist several paths. Write a Python Program to find the shortest distance between any two places using a A* search algorithm."
   ]
  },
  {
   "cell_type": "markdown",
   "id": "93301ccd",
   "metadata": {},
   "source": [
    "---"
   ]
  },
  {
   "cell_type": "code",
   "execution_count": 1,
   "id": "2377dd6a",
   "metadata": {},
   "outputs": [],
   "source": [
    "import heapq"
   ]
  },
  {
   "cell_type": "code",
   "execution_count": 2,
   "id": "41ac8818",
   "metadata": {},
   "outputs": [],
   "source": [
    "def a_star_search(graph, start, goal, heuristic1):\n",
    "    open_list = [(0, start)]\n",
    "    closed_set = set()\n",
    "    \n",
    "    g_score = {location : float('inf') for location in graph}\n",
    "    g_score[start] = 0\n",
    "    \n",
    "    while open_list:\n",
    "        current_g, current_node = heapq.heappop(open_list)\n",
    "        \n",
    "        if current_node == goal:\n",
    "            return g_score[goal]\n",
    "        \n",
    "        if current_node in closed_set:\n",
    "            continue\n",
    "            \n",
    "        closed_set.add(current_node)\n",
    "        \n",
    "        for neighbor, distance in graph[current_node].items():\n",
    "            tentative_g = g_score[current_node] + distance\n",
    "            \n",
    "            if tentative_g < g_score[neighbor]:\n",
    "                g_score[neighbor] = tentative_g\n",
    "                f_score = tentative_g + heuristic1[neighbor]\n",
    "                heapq.heappush(open_list, (f_score, neighbor))\n",
    "                \n",
    "    return float('inf') # If no path is found"
   ]
  },
  {
   "cell_type": "code",
   "execution_count": 3,
   "id": "1db613c0",
   "metadata": {},
   "outputs": [
    {
     "name": "stdout",
     "output_type": "stream",
     "text": [
      "The shortest distance from B to D is 565 km.\n"
     ]
    }
   ],
   "source": [
    "example_map = {\n",
    "    'S': {'A':31,'G':210},\n",
    "    'A': {'B':232,'C':134, 'S':154},\n",
    "    'B': {'D':565, 'A':276},\n",
    "    'C': {'D':543, 'G':464, 'A':165},\n",
    "    'D': {'G':634, 'C':231, 'B':343},\n",
    "    'G': {'S':235, 'C':345, 'D':453},\n",
    "}\n",
    "\n",
    "heuristic1 = {\n",
    "    'S': 451,\n",
    "    'A': 232,\n",
    "    'B': 864,\n",
    "    'C': 232,\n",
    "    'D': 634,\n",
    "    'G': 840\n",
    "}\n",
    "\n",
    "start_location = 'B'\n",
    "goal_location = 'D'\n",
    "\n",
    "shortest_distance = a_star_search(example_map, start_location, goal_location, heuristic1)\n",
    "\n",
    "if shortest_distance < float('inf'):\n",
    "    print(f\"The shortest distance from {start_location} to {goal_location} is {shortest_distance} km.\")\n",
    "else:\n",
    "    print(f\"No path found from {start_location} to {goal_location}.\")"
   ]
  },
  {
   "cell_type": "code",
   "execution_count": 4,
   "id": "5867095f",
   "metadata": {},
   "outputs": [
    {
     "name": "stdout",
     "output_type": "stream",
     "text": [
      "The shortest distance from Rimnicu Vilcea to Vaslui is 38 km.\n"
     ]
    }
   ],
   "source": [
    "romania_map = {\n",
    "    'Arad': {'Zerind': 7, 'Timisoara': 18, 'Sibiu': 14},\n",
    "    'Zerind': {'Arad': 5, 'Oradea': 1},\n",
    "    'Oradea': {'Zerind': 7, 'Sibiu': 15},\n",
    "    'Sibiu': {'Arad': 10, 'Oradea': 15, 'Fagaras': 99, 'Rimnicu Vilcea': 8},\n",
    "    'Timisoara': {'Arad': 18, 'Lugoj': 11},\n",
    "    'Lugoj': {'Timisoara': 11, 'Mehadia': 7},\n",
    "    'Mehadia': {'Lugoj': 70, 'Drobeta': 7},\n",
    "    'Drobeta': {'Mehadia': 5, 'Craiova': 12},\n",
    "    'Craiova': {'Drobeta': 12, 'Rimnicu Vilcea': 46, 'Pitesti': 18},\n",
    "    'Rimnicu Vilcea': {'Sibiu': 8, 'Craiova': 16, 'Pitesti': 7},\n",
    "    'Fagaras': {'Sibiu': 9, 'Bucharest': 21},\n",
    "    'Pitesti': {'Rimnicu Vilcea': 9, 'Craiova': 18, 'Bucharest': 11},\n",
    "    'Bucharest': {'Fagaras': 21, 'Pitesti': 11, 'Giurgiu': 9, 'Urziceni': 8},\n",
    "    'Giurgiu': {'Bucharest': 9},\n",
    "    'Urziceni': {'Bucharest': 5, 'Vaslui': 12, 'Hirsova': 98},\n",
    "    'Hirsova': {'Urziceni': 98, 'Eforie': 86},\n",
    "    'Eforie': {'Hirsova': 6},\n",
    "    'Vaslui': {'Urziceni': 12, 'Iasi': 32},\n",
    "    'Iasi': {'Vaslui': 43, 'Neamt': 17},\n",
    "    'Neamt': {'Iasi': 23}\n",
    "}\n",
    "\n",
    "# Define the heuristic function (straight-line distance to Bucharest)\n",
    "heuristic = {\n",
    "    'Arad': 36,\n",
    "    'Zerind': 74,\n",
    "    'Oradea': 80,\n",
    "    'Sibiu': 23,\n",
    "    'Timisoara': 53,\n",
    "    'Lugoj': 87,\n",
    "    'Mehadia': 55,\n",
    "    'Drobeta': 42,\n",
    "    'Craiova': 16,\n",
    "    'Rimnicu Vilcea': 19,\n",
    "    'Fagaras': 17,\n",
    "    'Pitesti': 10,\n",
    "    'Bucharest': 0,\n",
    "    'Giurgiu': 77,\n",
    "    'Urziceni': 80,\n",
    "    'Hirsova': 51,\n",
    "    'Eforie': 51,\n",
    "    'Vaslui': 19,\n",
    "    'Iasi': 56,\n",
    "    'Neamt': 84\n",
    "}\n",
    "\n",
    "start_location = 'Rimnicu Vilcea'\n",
    "goal_location = 'Vaslui'\n",
    "shortest_distance = a_star_search(romania_map, start_location, goal_location, heuristic)\n",
    "\n",
    "if shortest_distance < float('inf'):\n",
    "    print(f\"The shortest distance from {start_location} to {goal_location} is {shortest_distance} km.\")\n",
    "else:\n",
    "    print(f\"No path found from {start_location} to {goal_location}.\")"
   ]
  },
  {
   "cell_type": "markdown",
   "id": "ff14b5c7",
   "metadata": {},
   "source": [
    "---"
   ]
  }
 ],
 "metadata": {
  "kernelspec": {
   "display_name": "Python 3 (ipykernel)",
   "language": "python",
   "name": "python3"
  },
  "language_info": {
   "codemirror_mode": {
    "name": "ipython",
    "version": 3
   },
   "file_extension": ".py",
   "mimetype": "text/x-python",
   "name": "python",
   "nbconvert_exporter": "python",
   "pygments_lexer": "ipython3",
   "version": "3.9.13"
  }
 },
 "nbformat": 4,
 "nbformat_minor": 5
}
