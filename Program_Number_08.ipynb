{
 "cells": [
  {
   "cell_type": "markdown",
   "id": "86324bd8",
   "metadata": {},
   "source": [
    "# <font color = 'orange'> Program Number 8 - Genetic Algorithm"
   ]
  },
  {
   "cell_type": "markdown",
   "id": "36f7a048",
   "metadata": {},
   "source": [
    "---"
   ]
  },
  {
   "cell_type": "markdown",
   "id": "e7ccde85",
   "metadata": {},
   "source": [
    "Name : Darshan R.M.  \n",
    "USN : 1NT21CS058  \n",
    "Semester : 5th  \n",
    "Section : A"
   ]
  },
  {
   "cell_type": "markdown",
   "id": "c520e3da",
   "metadata": {},
   "source": [
    "---"
   ]
  },
  {
   "cell_type": "markdown",
   "id": "7b91d59c",
   "metadata": {},
   "source": [
    "## <font color='blue'>Problem Statement:\n",
    "### Demonstrate Genetic algorithm by taking a suitable data for any simple application"
   ]
  },
  {
   "cell_type": "markdown",
   "id": "159e9a59",
   "metadata": {},
   "source": [
    "---"
   ]
  },
  {
   "cell_type": "code",
   "execution_count": null,
   "id": "0229337d",
   "metadata": {},
   "outputs": [],
   "source": []
  },
  {
   "cell_type": "markdown",
   "id": "e07e7a99",
   "metadata": {},
   "source": [
    "---"
   ]
  }
 ],
 "metadata": {
  "kernelspec": {
   "display_name": "Python 3 (ipykernel)",
   "language": "python",
   "name": "python3"
  },
  "language_info": {
   "codemirror_mode": {
    "name": "ipython",
    "version": 3
   },
   "file_extension": ".py",
   "mimetype": "text/x-python",
   "name": "python",
   "nbconvert_exporter": "python",
   "pygments_lexer": "ipython3",
   "version": "3.9.13"
  }
 },
 "nbformat": 4,
 "nbformat_minor": 5
}
