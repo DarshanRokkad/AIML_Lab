{
 "cells": [
  {
   "cell_type": "markdown",
   "id": "c62e4441",
   "metadata": {},
   "source": [
    "# <font color = 'orange'> Program Number 5"
   ]
  },
  {
   "cell_type": "markdown",
   "id": "07c7d959",
   "metadata": {},
   "source": [
    "---"
   ]
  },
  {
   "cell_type": "markdown",
   "id": "3007875a",
   "metadata": {},
   "source": [
    "Name : Darshan R.M.  \n",
    "USN : 1NT21CS058  \n",
    "Semester : 5th  \n",
    "Section : A"
   ]
  },
  {
   "cell_type": "markdown",
   "id": "f4b4a4d7",
   "metadata": {},
   "source": [
    "---"
   ]
  },
  {
   "cell_type": "markdown",
   "id": "268b5814",
   "metadata": {},
   "source": [
    "## <font color='blue'>Problem Statement :\n",
    "### Write a program to implement McCulloch-Pitts algorithms, for realizing the AND/OR/XOR/ANDNOT logic functions."
   ]
  },
  {
   "cell_type": "markdown",
   "id": "0553cc75",
   "metadata": {},
   "source": [
    "---"
   ]
  },
  {
   "cell_type": "code",
   "execution_count": null,
   "id": "c4a75caf",
   "metadata": {},
   "outputs": [],
   "source": []
  },
  {
   "cell_type": "markdown",
   "id": "40261efd",
   "metadata": {},
   "source": [
    "---"
   ]
  }
 ],
 "metadata": {
  "kernelspec": {
   "display_name": "Python 3 (ipykernel)",
   "language": "python",
   "name": "python3"
  },
  "language_info": {
   "codemirror_mode": {
    "name": "ipython",
    "version": 3
   },
   "file_extension": ".py",
   "mimetype": "text/x-python",
   "name": "python",
   "nbconvert_exporter": "python",
   "pygments_lexer": "ipython3",
   "version": "3.9.13"
  }
 },
 "nbformat": 4,
 "nbformat_minor": 5
}
