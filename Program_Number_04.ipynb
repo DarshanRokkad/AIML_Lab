{
 "cells": [
  {
   "cell_type": "markdown",
   "id": "fb611f6f",
   "metadata": {},
   "source": [
    "# <font color = 'orange'> Program Number 4 - Tic Tac Toe"
   ]
  },
  {
   "cell_type": "markdown",
   "id": "0490b5b2",
   "metadata": {},
   "source": [
    "---"
   ]
  },
  {
   "cell_type": "markdown",
   "id": "6748bcc2",
   "metadata": {},
   "source": [
    "Name : Darshan R.M.  \n",
    "USN : 1NT21CS058  \n",
    "Semester : 5th  \n",
    "Section : A"
   ]
  },
  {
   "cell_type": "markdown",
   "id": "65e313cd",
   "metadata": {},
   "source": [
    "---"
   ]
  },
  {
   "cell_type": "markdown",
   "id": "e27d754b",
   "metadata": {},
   "source": [
    "## <font color='blue'>Problem Statement : \n",
    "### Implementation of Tic Tac Toe game here ,the player needs to take turns marking  the spaces in a 3x3 grid with their own marks, if 3 consecutive marks (Horizontal, Vertical,Diagonal) are formed then the player who owns these moves get won. Noughts and Crosses or X’s and O’s abbreviations can be used to play."
   ]
  },
  {
   "cell_type": "markdown",
   "id": "5e4963fa",
   "metadata": {},
   "source": [
    "---"
   ]
  },
  {
   "cell_type": "code",
   "execution_count": 9,
   "id": "e5a0853a",
   "metadata": {},
   "outputs": [
    {
     "name": "stdout",
     "output_type": "stream",
     "text": [
      "  |   |  \n",
      "- | - | -\n",
      "  |   |  \n",
      "- | - | -\n",
      "  |   |  \n",
      "\n",
      "Player 1(o) turn enter choice (1 to 9) : 1\n",
      "o |   |  \n",
      "- | - | -\n",
      "  |   |  \n",
      "- | - | -\n",
      "  |   |  \n",
      "\n",
      "Player 2(x) turn enter choice (1 to 9) : 5\n",
      "o |   |  \n",
      "- | - | -\n",
      "  | x |  \n",
      "- | - | -\n",
      "  |   |  \n",
      "\n",
      "Player 1(o) turn enter choice (1 to 9) : 6\n",
      "o |   |  \n",
      "- | - | -\n",
      "  | x | o\n",
      "- | - | -\n",
      "  |   |  \n",
      "\n",
      "Player 2(x) turn enter choice (1 to 9) : 7\n",
      "o |   |  \n",
      "- | - | -\n",
      "  | x | o\n",
      "- | - | -\n",
      "x |   |  \n",
      "\n",
      "Player 1(o) turn enter choice (1 to 9) : f\n",
      "Please enter the correct choice.\n",
      "Player 1(o) turn enter choice (1 to 9) : 6\n",
      "Please enter the correct choice.\n",
      "Player 1(o) turn enter choice (1 to 9) : 2\n",
      "o | o |  \n",
      "- | - | -\n",
      "  | x | o\n",
      "- | - | -\n",
      "x |   |  \n",
      "\n",
      "Player 2(x) turn enter choice (1 to 9) : 4\n",
      "o | o |  \n",
      "- | - | -\n",
      "x | x | o\n",
      "- | - | -\n",
      "x |   |  \n",
      "\n",
      "Player 1(o) turn enter choice (1 to 9) : 3\n",
      "o | o | o\n",
      "- | - | -\n",
      "x | x | o\n",
      "- | - | -\n",
      "x |   |  \n",
      "\n",
      "---------------------------- Player 1 is the winner ----------------------------\n"
     ]
    }
   ],
   "source": [
    "def print_board():\n",
    "    for i in range(0, 3):\n",
    "        print(f'{board[3 * i]} | {board[(3 * i) +1]} | {board[(3 * i) +2]}')\n",
    "        if i != 2:\n",
    "            print('- | - | -')\n",
    "    print()\n",
    "     \n",
    "def check_for_winner():    \n",
    "    result = None\n",
    "    if (board[0] == board[4] == board[8] != ' ') or (board[2] == board[4] == board[6] != ' '):\n",
    "        if board[4] == 'o':\n",
    "            return ' Player 1 is the winner '.center(80, '-')\n",
    "        else :\n",
    "            return ' Player 2 is the winner '.center(80, '-')\n",
    "    for i in range(3):\n",
    "        if board[i] == board[i + 3] == board[i + 6] != ' ':\n",
    "            result = board[i]\n",
    "            break\n",
    "        elif board[3 * i] == board[(3 * i) + 1] == board[(3 * i) + 2] != ' ':\n",
    "            result = board[3 * i]\n",
    "            break\n",
    "            \n",
    "    if result == 'o':\n",
    "        return ' Player 1 is the winner '.center(80, '-')\n",
    "    elif result == 'x' :\n",
    "        return ' Player 2 is the winner '.center(80, '-')\n",
    "    else:\n",
    "        if board.count(' ') == 0:\n",
    "            print('Match is draw!.. Please Play again'.center(80, '-'))\n",
    "            return 'Draw'\n",
    "        else:\n",
    "            return None\n",
    "       \n",
    "        \n",
    "def play():\n",
    "    print_board()\n",
    "    results = None\n",
    "    player1_turn = True \n",
    "    while results == None: \n",
    "        while True:  \n",
    "            try :\n",
    "                if player1_turn == True:\n",
    "                    choice = int(input('Player 1(o) turn enter choice (1 to 9) : '))\n",
    "                    player1_turn = False\n",
    "                else:\n",
    "                    choice = int(input('Player 2(x) turn enter choice (1 to 9) : '))\n",
    "                    player1_turn = True\n",
    "            except:\n",
    "                print('Please enter the correct choice.')\n",
    "                continue\n",
    "            if choice < 1 or choice > 9 or board[choice - 1] != ' ':\n",
    "                print('Please enter the correct choice.')\n",
    "                player1_turn = not player1_turn\n",
    "                continue\n",
    "            else:\n",
    "                if not player1_turn:\n",
    "                    board[choice - 1] = 'o'\n",
    "                else:\n",
    "                    board[choice - 1] = 'x'\n",
    "                break\n",
    "        print_board()\n",
    "        results = check_for_winner()\n",
    "    return results\n",
    "\n",
    "board = [' ' for i in range(9)]\n",
    "results = play()\n",
    "while results == 'Draw':\n",
    "    print()\n",
    "    board = [' ' for i in range(9)] \n",
    "    results = play()\n",
    "else:\n",
    "    print(results)"
   ]
  },
  {
   "cell_type": "markdown",
   "id": "665e5437",
   "metadata": {},
   "source": [
    "---"
   ]
  }
 ],
 "metadata": {
  "kernelspec": {
   "display_name": "Python 3 (ipykernel)",
   "language": "python",
   "name": "python3"
  },
  "language_info": {
   "codemirror_mode": {
    "name": "ipython",
    "version": 3
   },
   "file_extension": ".py",
   "mimetype": "text/x-python",
   "name": "python",
   "nbconvert_exporter": "python",
   "pygments_lexer": "ipython3",
   "version": "3.9.13"
  }
 },
 "nbformat": 4,
 "nbformat_minor": 5
}
