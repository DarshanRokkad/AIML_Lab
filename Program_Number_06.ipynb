{
 "cells": [
  {
   "cell_type": "markdown",
   "id": "64810f33",
   "metadata": {},
   "source": [
    "# <font color = 'orange'> Program Number 6"
   ]
  },
  {
   "cell_type": "markdown",
   "id": "cf657c31",
   "metadata": {},
   "source": [
    "---"
   ]
  },
  {
   "cell_type": "markdown",
   "id": "e1421363",
   "metadata": {},
   "source": [
    "Name : Darshan R.M.  \n",
    "USN : 1NT21CS058  \n",
    "Semester : 5th  \n",
    "Section : A"
   ]
  },
  {
   "cell_type": "markdown",
   "id": "b1863aae",
   "metadata": {},
   "source": [
    "---"
   ]
  },
  {
   "cell_type": "markdown",
   "id": "c6200f49",
   "metadata": {},
   "source": [
    "## <font color='blue'> Problem Statement:\n",
    "### Implement the Perceptron Learning single layer Algorithm by Initializing the weights and threshold. Execute the code and check, how many iterations are needed, until the network converge."
   ]
  },
  {
   "cell_type": "markdown",
   "id": "7e08cadd",
   "metadata": {},
   "source": [
    "---"
   ]
  },
  {
   "cell_type": "code",
   "execution_count": null,
   "id": "9f823c85",
   "metadata": {},
   "outputs": [],
   "source": []
  },
  {
   "cell_type": "markdown",
   "id": "3e9d9422",
   "metadata": {},
   "source": [
    "---"
   ]
  }
 ],
 "metadata": {
  "kernelspec": {
   "display_name": "Python 3 (ipykernel)",
   "language": "python",
   "name": "python3"
  },
  "language_info": {
   "codemirror_mode": {
    "name": "ipython",
    "version": 3
   },
   "file_extension": ".py",
   "mimetype": "text/x-python",
   "name": "python",
   "nbconvert_exporter": "python",
   "pygments_lexer": "ipython3",
   "version": "3.9.13"
  }
 },
 "nbformat": 4,
 "nbformat_minor": 5
}
